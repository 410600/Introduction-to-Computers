{
  "nbformat": 4,
  "nbformat_minor": 0,
  "metadata": {
    "colab": {
      "name": "0530.ipynb",
      "provenance": [],
      "authorship_tag": "ABX9TyOc68zOxXmxrkjxfRyZ8UI/",
      "include_colab_link": true
    },
    "kernelspec": {
      "name": "python3",
      "display_name": "Python 3"
    },
    "language_info": {
      "name": "python"
    }
  },
  "cells": [
    {
      "cell_type": "markdown",
      "metadata": {
        "id": "view-in-github",
        "colab_type": "text"
      },
      "source": [
        "<a href=\"https://colab.research.google.com/github/410600/Introduction-to-Computers/blob/main/0530.ipynb\" target=\"_parent\"><img src=\"https://colab.research.google.com/assets/colab-badge.svg\" alt=\"Open In Colab\"/></a>"
      ]
    },
    {
      "cell_type": "code",
      "execution_count": null,
      "metadata": {
        "id": "bHe_NpYrM3c1",
        "colab": {
          "base_uri": "https://localhost:8080/"
        },
        "outputId": "0274c004-67bb-4e7a-ea41-78b3db4f07f5"
      },
      "outputs": [
        {
          "output_type": "stream",
          "name": "stdout",
          "text": [
            "0~50的偶數和是650\n",
            "0~50的奇數和是625\n"
          ]
        }
      ],
      "source": [
        "at = 0\n",
        "bt = 0\n",
        "n = 0\n",
        "while n <= 50 :\n",
        "    if n%2==1:\n",
        "        at += n\n",
        "        n += 1\n",
        "    else:\n",
        "        bt += n\n",
        "        n += 1\n",
        "print(\"0~50的偶數和是\",bt,sep=\"\")\n",
        "print(\"0~50的奇數和是\",at,sep=\"\")"
      ]
    },
    {
      "cell_type": "code",
      "source": [
        "a = int(input(\"請輸入一個正整數:\"))\n",
        "while a >= 1 :\n",
        "    for i in range(1,a+1):\n",
        "        print(\"*\",end=\"\")\n",
        "    a -= 1\n",
        "    print(\"\")"
      ],
      "metadata": {
        "colab": {
          "base_uri": "https://localhost:8080/"
        },
        "id": "UqE_ZKOVoSmU",
        "outputId": "5582e2aa-50df-4657-b970-0e3d76d3d7c2"
      },
      "execution_count": null,
      "outputs": [
        {
          "output_type": "stream",
          "name": "stdout",
          "text": [
            "請輸入一個正整數:7\n",
            "*******\n",
            "******\n",
            "*****\n",
            "****\n",
            "***\n",
            "**\n",
            "*\n"
          ]
        }
      ]
    },
    {
      "cell_type": "code",
      "source": [
        "\n",
        "a = 0\n",
        "for i in range(1,101):\n",
        "    if i%3==0 or i%7==0:\n",
        "        a += i\n",
        "print(\"數值1~100中,是3或7的倍數的總和=\",a,sep=\"\")"
      ],
      "metadata": {
        "colab": {
          "base_uri": "https://localhost:8080/"
        },
        "id": "bptPwIdUYarj",
        "outputId": "356809f6-d688-4a2d-e90f-fd6366ab2fbb"
      },
      "execution_count": null,
      "outputs": [
        {
          "output_type": "stream",
          "name": "stdout",
          "text": [
            "數值1~100中,是3或7的倍數的總和=2208\n"
          ]
        }
      ]
    },
    {
      "cell_type": "code",
      "source": [
        "a = int(input(\"請輸入一個正整數:\"))\n",
        "b = 0\n",
        "print(a,\"的因數有\",end=\" \")\n",
        "for i in range(1,a+1):\n",
        "    if a%i!=0 :\n",
        "        continue\n",
        "    b += 1\n",
        "    print(i,end=\" \")\n",
        "print()\n",
        "if b > 2 :\n",
        "    print(a,\"不是質數\")\n",
        "elif a == 1 :\n",
        "    print(a,\"是質數\")\n",
        "else :\n",
        "    print(a,\"是質數\")"
      ],
      "metadata": {
        "id": "ym2H1XFaZti-",
        "colab": {
          "base_uri": "https://localhost:8080/"
        },
        "outputId": "10e4b11d-4120-4826-c4e6-8c99df0c1066"
      },
      "execution_count": null,
      "outputs": [
        {
          "output_type": "stream",
          "name": "stdout",
          "text": [
            "請輸入一個正整數:6\n",
            "6 的因數有 1 2 3 6 \n",
            "6 不是質數\n"
          ]
        }
      ]
    },
    {
      "cell_type": "code",
      "source": [
        "a = 1\n",
        "b = 0"
      ],
      "metadata": {
        "id": "EQW6b-jVKMFx"
      },
      "execution_count": null,
      "outputs": []
    }
  ]
}