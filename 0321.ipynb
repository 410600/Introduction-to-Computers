{
  "nbformat": 4,
  "nbformat_minor": 0,
  "metadata": {
    "colab": {
      "name": "0321.ipynb",
      "provenance": [],
      "authorship_tag": "ABX9TyNd9smsur3Tea99Wt9BRlDz",
      "include_colab_link": true
    },
    "kernelspec": {
      "name": "python3",
      "display_name": "Python 3"
    },
    "language_info": {
      "name": "python"
    }
  },
  "cells": [
    {
      "cell_type": "markdown",
      "metadata": {
        "id": "view-in-github",
        "colab_type": "text"
      },
      "source": [
        "<a href=\"https://colab.research.google.com/github/410600/Introduction-to-Computers/blob/main/0321.ipynb\" target=\"_parent\"><img src=\"https://colab.research.google.com/assets/colab-badge.svg\" alt=\"Open In Colab\"/></a>"
      ]
    },
    {
      "cell_type": "code",
      "execution_count": 11,
      "metadata": {
        "id": "q_qZueIsjjO4"
      },
      "outputs": [],
      "source": [
        "numl=1+1.1"
      ]
    },
    {
      "cell_type": "code",
      "source": [
        "numl\n"
      ],
      "metadata": {
        "colab": {
          "base_uri": "https://localhost:8080/"
        },
        "id": "1DsOF1_ClMDC",
        "outputId": "70fcc141-77ad-41e6-c160-d14bf5172119"
      },
      "execution_count": 5,
      "outputs": [
        {
          "output_type": "execute_result",
          "data": {
            "text/plain": [
              "2.1"
            ]
          },
          "metadata": {},
          "execution_count": 5
        }
      ]
    },
    {
      "cell_type": "code",
      "source": [
        "int(num1)"
      ],
      "metadata": {
        "colab": {
          "base_uri": "https://localhost:8080/",
          "height": 172
        },
        "id": "88XZ_oOKlowT",
        "outputId": "a24da30e-661b-4c22-bc9b-4f02cc447d32"
      },
      "execution_count": 8,
      "outputs": [
        {
          "output_type": "error",
          "ename": "NameError",
          "evalue": "ignored",
          "traceback": [
            "\u001b[0;31m---------------------------------------------------------------------------\u001b[0m",
            "\u001b[0;31mNameError\u001b[0m                                 Traceback (most recent call last)",
            "\u001b[0;32m<ipython-input-8-a61838c02ab8>\u001b[0m in \u001b[0;36m<module>\u001b[0;34m()\u001b[0m\n\u001b[0;32m----> 1\u001b[0;31m \u001b[0mint\u001b[0m\u001b[0;34m(\u001b[0m\u001b[0mnum1\u001b[0m\u001b[0;34m)\u001b[0m\u001b[0;34m\u001b[0m\u001b[0;34m\u001b[0m\u001b[0m\n\u001b[0m",
            "\u001b[0;31mNameError\u001b[0m: name 'num1' is not defined"
          ]
        }
      ]
    },
    {
      "cell_type": "code",
      "source": [
        "num2=2"
      ],
      "metadata": {
        "id": "uJteLWI8lutP"
      },
      "execution_count": 9,
      "outputs": []
    },
    {
      "cell_type": "code",
      "source": [
        "float(num2)\n"
      ],
      "metadata": {
        "colab": {
          "base_uri": "https://localhost:8080/"
        },
        "id": "4cUIVgzUlxG3",
        "outputId": "b5a45368-2547-415f-a057-b360cef103a1"
      },
      "execution_count": 10,
      "outputs": [
        {
          "output_type": "execute_result",
          "data": {
            "text/plain": [
              "2.0"
            ]
          },
          "metadata": {},
          "execution_count": 10
        }
      ]
    },
    {
      "cell_type": "code",
      "source": [
        "print(type(num1))"
      ],
      "metadata": {
        "colab": {
          "base_uri": "https://localhost:8080/",
          "height": 172
        },
        "id": "_MquaXemlUzo",
        "outputId": "606d3cd5-76a1-440e-92d7-f518bb21c1da"
      },
      "execution_count": 6,
      "outputs": [
        {
          "output_type": "error",
          "ename": "NameError",
          "evalue": "ignored",
          "traceback": [
            "\u001b[0;31m---------------------------------------------------------------------------\u001b[0m",
            "\u001b[0;31mNameError\u001b[0m                                 Traceback (most recent call last)",
            "\u001b[0;32m<ipython-input-6-32dd55e1a1c5>\u001b[0m in \u001b[0;36m<module>\u001b[0;34m()\u001b[0m\n\u001b[0;32m----> 1\u001b[0;31m \u001b[0mprint\u001b[0m\u001b[0;34m(\u001b[0m\u001b[0mtype\u001b[0m\u001b[0;34m(\u001b[0m\u001b[0mnum1\u001b[0m\u001b[0;34m)\u001b[0m\u001b[0;34m)\u001b[0m\u001b[0;34m\u001b[0m\u001b[0;34m\u001b[0m\u001b[0m\n\u001b[0m",
            "\u001b[0;31mNameError\u001b[0m: name 'num1' is not defined"
          ]
        }
      ]
    },
    {
      "cell_type": "code",
      "source": [
        "print(type(num2))"
      ],
      "metadata": {
        "colab": {
          "base_uri": "https://localhost:8080/"
        },
        "id": "9PqX-85Llilv",
        "outputId": "1e93b0f1-57d4-4d48-b29a-4aafae030220"
      },
      "execution_count": 7,
      "outputs": [
        {
          "output_type": "stream",
          "name": "stdout",
          "text": [
            "<class 'int'>\n"
          ]
        }
      ]
    },
    {
      "cell_type": "code",
      "source": [
        "a=1\n",
        "b=2\n",
        "c=3\n",
        "print(a,b,c)\n",
        "print([a,b,c])\n",
        "print(a,[b,c])"
      ],
      "metadata": {
        "colab": {
          "base_uri": "https://localhost:8080/"
        },
        "id": "d2ch0Vnsl7Bs",
        "outputId": "394ca17a-5448-490d-d44d-0d982d19147a"
      },
      "execution_count": 22,
      "outputs": [
        {
          "output_type": "stream",
          "name": "stdout",
          "text": [
            "1 2 3\n",
            "[1, 2, 3]\n",
            "1 [2, 3]\n"
          ]
        }
      ]
    },
    {
      "cell_type": "code",
      "source": [
        "print(\"hey\",\"hi\",\"hello\")\n",
        "print(\"hey\",\"hi\",\"hello\",sep=\"_\")\n",
        "print(\"hey\",\"hi\",\"hello\",sep=\"\\t\")\n",
        "print(\"hey\",\"hi\",\"hello\",sep=\"\\n\")"
      ],
      "metadata": {
        "colab": {
          "base_uri": "https://localhost:8080/"
        },
        "id": "R9ok2q-LmZlT",
        "outputId": "73bbfea6-6007-4faa-f846-8542ad5b3614"
      },
      "execution_count": 18,
      "outputs": [
        {
          "output_type": "stream",
          "name": "stdout",
          "text": [
            "hey hi hello\n",
            "hey_hi_hello\n",
            "hey\thi\thello\n",
            "hey\n",
            "hi\n",
            "hello\n"
          ]
        }
      ]
    },
    {
      "cell_type": "code",
      "source": [
        "print(\"午安\")\n",
        "print(\"同學好!\")\n",
        "print(\"打起精神來!!\")\n",
        "\n",
        "print(\"午安\",\"同學好!\",\"打起精神來!!\",sep=\"\\n\")"
      ],
      "metadata": {
        "colab": {
          "base_uri": "https://localhost:8080/"
        },
        "id": "-vOOmZZIl_Lp",
        "outputId": "e621915a-147b-4e09-bee0-07acaaf47f60"
      },
      "execution_count": 21,
      "outputs": [
        {
          "output_type": "stream",
          "name": "stdout",
          "text": [
            "午安\n",
            "同學好!\n",
            "打起精神來!!\n",
            "午安\n",
            "同學好!\n",
            "打起精神來!!\n"
          ]
        }
      ]
    },
    {
      "cell_type": "code",
      "source": [
        "print(123)\n",
        "print(456)\n",
        "\n",
        "print(123,end=\",\")\n",
        "print(456)\n",
        "\n",
        "print(123,end=\"\")\n",
        "print(456)"
      ],
      "metadata": {
        "colab": {
          "base_uri": "https://localhost:8080/"
        },
        "id": "3aDcwJ3Fn3nY",
        "outputId": "a121a291-d57e-486e-b821-8cbba0380020"
      },
      "execution_count": 23,
      "outputs": [
        {
          "output_type": "stream",
          "name": "stdout",
          "text": [
            "123\n",
            "456\n",
            "123,456\n",
            "123456\n"
          ]
        }
      ]
    },
    {
      "cell_type": "code",
      "source": [
        "print(\"午安\",\"同學好\",\"打起精神來\",sep=\"_\",end=\"!!!\")"
      ],
      "metadata": {
        "colab": {
          "base_uri": "https://localhost:8080/"
        },
        "id": "Upp5I0vHtyYT",
        "outputId": "98d1793f-09fc-4b4e-9836-3c30adbd16da"
      },
      "execution_count": 34,
      "outputs": [
        {
          "output_type": "stream",
          "name": "stdout",
          "text": [
            "午安_同學好_打起精神來!!!"
          ]
        }
      ]
    },
    {
      "cell_type": "code",
      "source": [
        "print(\"下午好\",\"平安順心\",\"健康如意\",sep=\",\",end=\"^^\")"
      ],
      "metadata": {
        "colab": {
          "base_uri": "https://localhost:8080/"
        },
        "id": "QP88ycGhqZ0E",
        "outputId": "bf15e8e6-fbb2-4235-a245-84326a5950b6"
      },
      "execution_count": 33,
      "outputs": [
        {
          "output_type": "stream",
          "name": "stdout",
          "text": [
            "下午好,平安順心,健康如意^^"
          ]
        }
      ]
    },
    {
      "cell_type": "code",
      "source": [
        "test3=int(input(\"請輸入月份\"))\n",
        "test4=int(input(\"請輸入日期\"))\n",
        "\n",
        "print(\"今天是\",test3,\"月\",test4,\"日\",sep=\"\")"
      ],
      "metadata": {
        "colab": {
          "base_uri": "https://localhost:8080/"
        },
        "id": "bXo__7uCx1hc",
        "outputId": "8fb7e461-95c2-4c0a-bf9b-15b6fbe67883"
      },
      "execution_count": 40,
      "outputs": [
        {
          "output_type": "stream",
          "name": "stdout",
          "text": [
            "請輸入月份3\n",
            "請輸入日期21\n",
            "今天是3月21日\n"
          ]
        }
      ]
    },
    {
      "cell_type": "code",
      "source": [
        "ch=int(input(\"請輸入國文成績\"))\n",
        "en=int(input(\"請輸入英文成績\"))\n",
        "ma=int(input(\"請輸入數學成績\"))\n",
        "\n",
        "print(\"你的成績總分為:\",ch+en+ma,sep=\"\\n\")"
      ],
      "metadata": {
        "colab": {
          "base_uri": "https://localhost:8080/"
        },
        "id": "EK31ANSgybYa",
        "outputId": "80f14de7-7837-4b0c-94ba-577cb106ae08"
      },
      "execution_count": 47,
      "outputs": [
        {
          "output_type": "stream",
          "name": "stdout",
          "text": [
            "請輸入國文成績4\n",
            "請輸入英文成績25\n",
            "請輸入數學成績65\n",
            "你的成績總分為:\n",
            "94\n"
          ]
        }
      ]
    }
  ]
}