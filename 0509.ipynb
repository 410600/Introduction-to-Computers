{
  "nbformat": 4,
  "nbformat_minor": 0,
  "metadata": {
    "colab": {
      "name": "0509.ipynb",
      "provenance": [],
      "toc_visible": true,
      "authorship_tag": "ABX9TyMhXvrHL49iDZlInx7GgfGg",
      "include_colab_link": true
    },
    "kernelspec": {
      "name": "python3",
      "display_name": "Python 3"
    },
    "language_info": {
      "name": "python"
    }
  },
  "cells": [
    {
      "cell_type": "markdown",
      "metadata": {
        "id": "view-in-github",
        "colab_type": "text"
      },
      "source": [
        "<a href=\"https://colab.research.google.com/github/410600/Introduction-to-Computers/blob/main/0509.ipynb\" target=\"_parent\"><img src=\"https://colab.research.google.com/assets/colab-badge.svg\" alt=\"Open In Colab\"/></a>"
      ]
    },
    {
      "cell_type": "code",
      "execution_count": null,
      "metadata": {
        "colab": {
          "base_uri": "https://localhost:8080/"
        },
        "id": "6W2351f98eQZ",
        "outputId": "0f66c7a4-a161-4475-837b-d27378df6eb3"
      },
      "outputs": [
        {
          "output_type": "stream",
          "name": "stdout",
          "text": [
            "輸入體溫33.9\n",
            "體溫異常，請重新測量！！\n"
          ]
        }
      ],
      "source": [
        "a = float(input(\"輸入體溫\"))\n",
        "if a>=37.5:\n",
        "    print(\"體溫過高\")\n",
        "elif a>=37 and a<37.5:\n",
        "    print(\"體溫略高\")\n",
        "elif a>=34 and a<37:\n",
        "    print(\"體溫正常\")\n",
        "else:\n",
        "    print(\"體溫異常，請重新測量！！\")"
      ]
    },
    {
      "cell_type": "code",
      "source": [
        "a = int(input(\"輸入成績\"))\n",
        "if a>=90:\n",
        "    print(\"A\")\n",
        "elif a>=80 and a<90:\n",
        "    print(\"B\")\n",
        "elif a>=70 and a<80:\n",
        "    print(\"C\")\n",
        "elif a>=60 and a<70:\n",
        "    print(\"D\")\n",
        "else:\n",
        "    print(\"E\")"
      ],
      "metadata": {
        "colab": {
          "base_uri": "https://localhost:8080/"
        },
        "id": "ym2kElMFAfuO",
        "outputId": "8924782b-41e9-4b7d-9327-677dd4aa0b30"
      },
      "execution_count": null,
      "outputs": [
        {
          "output_type": "stream",
          "name": "stdout",
          "text": [
            "輸入成績89\n",
            "B\n"
          ]
        }
      ]
    },
    {
      "cell_type": "code",
      "source": [
        "a = int(input(\"請輸入購物金額\"))\n",
        "if a>=10000:\n",
        "    if a>=100000:\n",
        "        print(\"打八折\",a*0.8,end=\"元\")\n",
        "    elif a>=50000:\n",
        "        print(\"打八五折\",a*0.85,end=\"元\")\n",
        "    elif a>=30000:\n",
        "        print(\"打九折\",a*0.9,end=\"元\")\n",
        "    else :\n",
        "        print(\"打九五折\",a*0.95,end=\"元\")\n",
        "else :\n",
        "    print(\"沒打折\",a,\"元\")"
      ],
      "metadata": {
        "colab": {
          "base_uri": "https://localhost:8080/"
        },
        "id": "ubgJ6RBoGK1e",
        "outputId": "6552c882-240f-4f23-9703-3dcc1e95c2fd"
      },
      "execution_count": null,
      "outputs": [
        {
          "output_type": "stream",
          "name": "stdout",
          "text": [
            "請輸入購物金額13000\n",
            "打九五折 12350.0元"
          ]
        }
      ]
    },
    {
      "cell_type": "code",
      "source": [
        "a = int(input(\"請輸入月份數字\"))\n",
        "if a>=1 and a<=12 :\n",
        "    if a<=5 and a>=3 :\n",
        "        print(a,end=\"月是春天\")\n",
        "    elif a<=8 and a>=6 :\n",
        "        print(a,end=\"月是夏天\")\n",
        "    elif a<=11 and a>=9 :\n",
        "        print(a,end=\"月是秋天\")\n",
        "    else:\n",
        "        print(a,end=\"月是冬天\")\n",
        "else:\n",
        "    print(\"此月份不在範圍內!\")"
      ],
      "metadata": {
        "colab": {
          "base_uri": "https://localhost:8080/"
        },
        "id": "iBq0pDJXJuhz",
        "outputId": "a653381c-5f80-4567-fa92-334ffb12cd7d"
      },
      "execution_count": null,
      "outputs": [
        {
          "output_type": "stream",
          "name": "stdout",
          "text": [
            "請輸入月份數字2\n",
            "2月是冬天"
          ]
        }
      ]
    },
    {
      "cell_type": "code",
      "source": [
        "a = int(input(\"請輸入今年收入淨額\"))\n",
        "if a>=300000 :\n",
        "    if a>=2000000 :\n",
        "        print(\"付稅金額:\",a*0.3,\"元\")\n",
        "    elif a>=1000000 :\n",
        "        print(\"付稅金額:\",a*0.21,\"元\")\n",
        "    elif a>=600000 :\n",
        "        print(\"付稅金額:\",a*0.13,\"元\")\n",
        "    else :\n",
        "        print(\"付稅金額:\",a*0.06,\"元\")\n",
        "else :\n",
        "    print(\"付稅金額:0 元\")"
      ],
      "metadata": {
        "colab": {
          "base_uri": "https://localhost:8080/"
        },
        "id": "uER-D6yGLp7A",
        "outputId": "397f070c-6374-44d3-d284-ebfc5f0d4e10"
      },
      "execution_count": null,
      "outputs": [
        {
          "output_type": "stream",
          "name": "stdout",
          "text": [
            "請輸入今年收入淨額1300000\n",
            "付稅金額: 273000.0 元\n"
          ]
        }
      ]
    }
  ]
}